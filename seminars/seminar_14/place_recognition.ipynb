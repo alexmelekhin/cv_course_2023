{
  "cells": [
    {
      "attachments": {},
      "cell_type": "markdown",
      "metadata": {},
      "source": [
        "<a target=\"_blank\" href=\"https://colab.research.google.com/github/alexmelekhin/cv_course_2023/blob/main/seminars/seminar_14/place_recognition.ipynb\">\n",
        "  <img src=\"https://colab.research.google.com/assets/colab-badge.svg\" alt=\"Open In Colab\"/>\n",
        "</a>"
      ]
    },
    {
      "attachments": {},
      "cell_type": "markdown",
      "metadata": {
        "id": "X_-rhZfhilva"
      },
      "source": [
        "# Задание: запуск и обучение MinkLoc++\n",
        "\n",
        "В данном задании Вам предлагается обучить модель MinkLoc++ на датасете Oxford RobotCar, используя библиотеку OpenPlaceRecognition.\n",
        "\n",
        "_Это задание опционально и не будет оцениваться._"
      ]
    },
    {
      "cell_type": "markdown",
      "metadata": {
        "id": "OP66K8dJigoB"
      },
      "source": [
        "## Предварительная настройка"
      ]
    },
    {
      "cell_type": "markdown",
      "metadata": {
        "id": "x31n1SifjaIT"
      },
      "source": [
        "### Установка MinkowskiEngine в Google Colab\n",
        "\n",
        "При желании установить локально или где-либо еще - обращайтесь к инструкциям в репозитории: https://github.com/NVIDIA/MinkowskiEngine "
      ]
    },
    {
      "cell_type": "code",
      "execution_count": null,
      "metadata": {
        "colab": {
          "base_uri": "https://localhost:8080/"
        },
        "id": "uyRr2lsIVzUd",
        "outputId": "bda7daf0-a2b5-4155-d3cb-94dd0fe24e93"
      },
      "outputs": [],
      "source": [
        "# вам потребуется GPU, проверьте ее наличие\n",
        "!nvidia-smi"
      ]
    },
    {
      "cell_type": "code",
      "execution_count": null,
      "metadata": {
        "colab": {
          "base_uri": "https://localhost:8080/"
        },
        "id": "jODZ1ukIVqIU",
        "outputId": "ea994d54-619d-4554-952d-2e1a1ee8eb43"
      },
      "outputs": [],
      "source": [
        "!pip install torch==1.13.1 torchvision==0.14.1"
      ]
    },
    {
      "cell_type": "code",
      "execution_count": null,
      "metadata": {
        "colab": {
          "base_uri": "https://localhost:8080/"
        },
        "id": "outFt1l58vOy",
        "outputId": "df89c0ca-1879-4c82-a29f-f580b3bf987d"
      },
      "outputs": [],
      "source": [
        "!pip install ninja"
      ]
    },
    {
      "cell_type": "code",
      "execution_count": null,
      "metadata": {
        "colab": {
          "base_uri": "https://localhost:8080/"
        },
        "id": "QYjEGGOINv0p",
        "outputId": "39d2ba03-a9de-40ed-eff4-3d1f7e7baeca"
      },
      "outputs": [],
      "source": [
        "import torch\n",
        "print(f\"torch version: {torch.__version__}\")\n",
        "print(f\"Is CUDA available in torch?: {torch.cuda.is_available()}\")"
      ]
    },
    {
      "cell_type": "code",
      "execution_count": null,
      "metadata": {
        "colab": {
          "base_uri": "https://localhost:8080/"
        },
        "id": "lLy0ur4RV5vk",
        "outputId": "77e88c0b-e726-45f5-dc19-cc200258b89b"
      },
      "outputs": [],
      "source": [
        "!sudo apt-get install libopenblas-dev"
      ]
    },
    {
      "cell_type": "code",
      "execution_count": null,
      "metadata": {
        "colab": {
          "base_uri": "https://localhost:8080/"
        },
        "id": "6yJeoskg89P4",
        "outputId": "cc030c26-700d-40b0-8d19-c1265525a938"
      },
      "outputs": [],
      "source": [
        "!pip install -U git+https://github.com/NVIDIA/MinkowskiEngine -v --no-deps \\\n",
        "                          --global-option=\"--force_cuda\" \\\n",
        "                          --global-option=\"--blas=openblas\""
      ]
    },
    {
      "cell_type": "code",
      "execution_count": null,
      "metadata": {
        "colab": {
          "base_uri": "https://localhost:8080/"
        },
        "id": "7-7b_uu9WELb",
        "outputId": "541bb390-d4ee-4a87-bac1-5f37a749b654"
      },
      "outputs": [],
      "source": [
        "import torch\n",
        "print(f\"Is CUDA available in torch?: {torch.cuda.is_available()}\")\n",
        "import MinkowskiEngine as ME\n",
        "print(f\"Is CUDA available in MinkowskiEngine?: {ME.is_cuda_available()}\")\n",
        "ME.print_diagnostics()"
      ]
    },
    {
      "cell_type": "markdown",
      "metadata": {
        "id": "zcBTcxVsgbE6"
      },
      "source": [
        "### Загрузка OpenPlaceRecognition"
      ]
    },
    {
      "cell_type": "code",
      "execution_count": null,
      "metadata": {
        "colab": {
          "base_uri": "https://localhost:8080/",
          "height": 1000
        },
        "id": "4Cvcke4wgaAC",
        "outputId": "99f2574a-a7ac-444b-e763-fdc758600179"
      },
      "outputs": [],
      "source": [
        "!git clone https://github.com/alexmelekhin/OpenPlaceRecognition.git\n",
        "%cd OpenPlaceRecognition\n",
        "!git checkout dev  # ! важно, в main может быть неактуальный код\n",
        "!pip install -e ."
      ]
    },
    {
      "cell_type": "markdown",
      "metadata": {
        "id": "pE2Ew5qMhM1K"
      },
      "source": [
        "### Загрузка датасета в Google Colab"
      ]
    },
    {
      "cell_type": "markdown",
      "metadata": {
        "id": "e1ihQwMyhM1K"
      },
      "source": [
        "Вы можете воспользоваться утилитой gdown, которая по умолчанию доступна в Colab. Допустим, https://drive.google.com/file/d/1b2ry0PGa3vnl8gVhEWqRz329y_ekZX9C/view?usp=share_link - ссылка на файл. Чтобы скачать его, нам нужно передать в gdown в качестве аргумента его id - для данного примера это `1b2ry0PGa3vnl8gVhEWqRz329y_ekZX9C` (часть ссылки между `file/d/` и `/view`)."
      ]
    },
    {
      "cell_type": "code",
      "execution_count": null,
      "metadata": {
        "colab": {
          "base_uri": "https://localhost:8080/"
        },
        "id": "D8INXxANhZty",
        "outputId": "7e2530fe-7e57-4c14-be9f-1e49ad8301ce"
      },
      "outputs": [],
      "source": [
        "!gdown 1b2ry0PGa3vnl8gVhEWqRz329y_ekZX9C"
      ]
    },
    {
      "cell_type": "markdown",
      "metadata": {
        "id": "SnJqg6UChtQb"
      },
      "source": [
        "Распаковка архива:"
      ]
    },
    {
      "cell_type": "code",
      "execution_count": null,
      "metadata": {
        "id": "Zw9Ou6tOhstR"
      },
      "outputs": [],
      "source": [
        "!unzip -q pnvlad_oxford_robotcar.zip"
      ]
    },
    {
      "cell_type": "markdown",
      "metadata": {
        "id": "mZ9qW9B-nMm6"
      },
      "source": [
        "**Важно:** архив с датасетом слегка устарел, дополнительно необходимо загрузить обновленные файлы train.csv, val.csv и test.csv отсюда: https://drive.google.com/drive/folders/1_KJQ8350zO0lCGfk4_BkjHMUa5RWnK63?usp=sharing \n",
        "\n",
        "Замените старые файлы из директории pnvlad_oxford_robotcar на новые."
      ]
    },
    {
      "cell_type": "markdown",
      "metadata": {
        "id": "EHb4wyBJhx7K"
      },
      "source": [
        "## Запуск обучения"
      ]
    },
    {
      "cell_type": "markdown",
      "metadata": {
        "id": "psG5CHJSjK28"
      },
      "source": [
        "Перед тем, как запускать обучение с помощью скрипта рекомендуется внимательно проверить конфиг в файле `OpenPlaceRecognition/configs/config.yaml`. Проверьте, что значения конфига установлены следующим образом:\n",
        "\n",
        "```\n",
        "defaults:\n",
        "  - _self_\n",
        "  - model: minkloc_multimodal\n",
        "  - dataset: oxford\n",
        "  - loss: triplet_margin\n",
        "  - optimizer: adam\n",
        "  - scheduler: multi_step\n",
        "\n",
        "general:\n",
        "  debug: False\n",
        "  seed: 31299\n",
        "  checkpoints_dir: checkpoints/\n",
        "  device: cuda\n",
        "  num_workers: 4\n",
        "  batch_expansion_th: 0.7\n",
        "  modalities: [image, cloud,]\n",
        "  test_modality: fusion\n",
        "  epochs: 60\n",
        "```"
      ]
    },
    {
      "cell_type": "code",
      "execution_count": null,
      "metadata": {
        "colab": {
          "base_uri": "https://localhost:8080/"
        },
        "id": "tMgbonA0lhH8",
        "outputId": "e61ba94a-4db7-4a56-fc6d-42ec7ad47e17"
      },
      "outputs": [],
      "source": [
        "# проверьте, в какой вы директории сейчас\n",
        "!pwd"
      ]
    },
    {
      "cell_type": "code",
      "execution_count": null,
      "metadata": {
        "colab": {
          "base_uri": "https://localhost:8080/"
        },
        "id": "h_10nAF5lrc4",
        "outputId": "d7456a5a-27fc-4720-8470-2bc534ef290c"
      },
      "outputs": [],
      "source": [
        "# перейдите в директорию с репозиторием, если еще не\n",
        "%cd OpenPlaceRecognition"
      ]
    },
    {
      "cell_type": "markdown",
      "metadata": {
        "id": "NytkcfzmmA7I"
      },
      "source": [
        "Обучение запускается скриптом `train.py`. При необходимости, можно переопределить некоторые значения конфига:"
      ]
    },
    {
      "cell_type": "code",
      "execution_count": null,
      "metadata": {
        "colab": {
          "base_uri": "https://localhost:8080/"
        },
        "id": "_nYkWfnUh3Sc",
        "outputId": "a4eebb7b-f8a3-4219-8042-2ef58500f021"
      },
      "outputs": [],
      "source": [
        "!python train.py wandb.disabled=True dataset.dataset.dataset_root=/content/pnvlad_oxford_robotcar"
      ]
    },
    {
      "cell_type": "code",
      "execution_count": null,
      "metadata": {
        "id": "SVBO0hD4mTUI"
      },
      "outputs": [],
      "source": []
    }
  ],
  "metadata": {
    "accelerator": "GPU",
    "colab": {
      "gpuType": "T4",
      "provenance": []
    },
    "gpuClass": "standard",
    "kernelspec": {
      "display_name": "Python 3",
      "name": "python3"
    },
    "language_info": {
      "name": "python"
    }
  },
  "nbformat": 4,
  "nbformat_minor": 0
}
