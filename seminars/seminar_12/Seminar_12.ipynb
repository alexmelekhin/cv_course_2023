{
  "cells": [
    {
      "attachments": {},
      "cell_type": "markdown",
      "metadata": {},
      "source": [
        "<center>\n",
        "\n",
        "# [Компьютерное зрение](http://rairi.ru/wiki/index.php/%D0%9A%D0%BE%D0%BC%D0%BF%D1%8C%D1%8E%D1%82%D0%B5%D1%80%D0%BD%D0%BE%D0%B5_%D0%B7%D1%80%D0%B5%D0%BD%D0%B8%D0%B5)\n",
        "\n",
        "## <center> Семинар 12 - MinkowskiEngine\n",
        "\n",
        "<a target=\"_blank\" href=\"https://colab.research.google.com/github/alexmelekhin/cv_course_2023/blob/main/seminars/seminar_12/Seminar_12.ipynb\">\n",
        "  <img src=\"https://colab.research.google.com/assets/colab-badge.svg\" alt=\"Open In Colab\"/>\n",
        "</a>\n",
        "\n",
        "***"
      ]
    },
    {
      "attachments": {},
      "cell_type": "markdown",
      "metadata": {
        "id": "x31n1SifjaIT"
      },
      "source": [
        "# Установка MinkowskiEngine в Google Colab\n",
        "\n",
        "При желании установить локально или где-либо еще - обращайтесь к инструкциям в репозитории: https://github.com/NVIDIA/MinkowskiEngine "
      ]
    },
    {
      "cell_type": "code",
      "execution_count": null,
      "metadata": {
        "id": "uyRr2lsIVzUd"
      },
      "outputs": [],
      "source": [
        "# вам потребуется GPU, проверьте ее наличие\n",
        "!nvidia-smi"
      ]
    },
    {
      "cell_type": "code",
      "execution_count": null,
      "metadata": {
        "id": "jODZ1ukIVqIU"
      },
      "outputs": [],
      "source": [
        "!pip install torch==1.13.1 torchvision==0.14.1"
      ]
    },
    {
      "cell_type": "code",
      "execution_count": null,
      "metadata": {
        "id": "outFt1l58vOy"
      },
      "outputs": [],
      "source": [
        "!pip install ninja"
      ]
    },
    {
      "cell_type": "code",
      "execution_count": null,
      "metadata": {
        "id": "QYjEGGOINv0p"
      },
      "outputs": [],
      "source": [
        "import torch\n",
        "print(f\"torch version: {torch.__version__}\")\n",
        "print(f\"Is CUDA available in torch?: {torch.cuda.is_available()}\")"
      ]
    },
    {
      "cell_type": "code",
      "execution_count": null,
      "metadata": {
        "id": "lLy0ur4RV5vk"
      },
      "outputs": [],
      "source": [
        "!sudo apt-get install libopenblas-dev"
      ]
    },
    {
      "cell_type": "code",
      "execution_count": null,
      "metadata": {
        "id": "6yJeoskg89P4"
      },
      "outputs": [],
      "source": [
        "!pip install -U git+https://github.com/NVIDIA/MinkowskiEngine -v --no-deps \\\n",
        "                          --install-option=\"--force_cuda\" \\\n",
        "                          --install-option=\"--blas=openblas\""
      ]
    },
    {
      "cell_type": "code",
      "execution_count": null,
      "metadata": {
        "id": "7-7b_uu9WELb"
      },
      "outputs": [],
      "source": [
        "import torch\n",
        "print(f\"Is CUDA available in torch?: {torch.cuda.is_available()}\")\n",
        "import MinkowskiEngine as ME\n",
        "print(f\"Is CUDA available in MinkowskiEngine?: {ME.is_cuda_available()}\")\n",
        "ME.print_diagnostics()"
      ]
    },
    {
      "attachments": {},
      "cell_type": "markdown",
      "metadata": {
        "id": "UWtct_yR_mRT"
      },
      "source": [
        "# ModelNet40-классификатор на MinkowskiEngine\n",
        "\n",
        "Предлагается ознакомиться с оффициальными туториалами:\n",
        "\n",
        "https://nvidia.github.io/MinkowskiEngine/demo/training.html\n",
        "\n",
        "https://github.com/NVIDIA/MinkowskiEngine/blob/master/examples/training.py\n",
        "\n",
        "https://nvidia.github.io/MinkowskiEngine/demo/modelnet40_classification.html\n"
      ]
    },
    {
      "attachments": {},
      "cell_type": "markdown",
      "metadata": {
        "id": "bAX6mclgM6nY"
      },
      "source": [
        "## Домашнее задание\n",
        "\n",
        "Обучить простейшую модель классификации 3D объектов на датасете ModelNet40, воспользовавшись туториалом выше и кодом отсюда: https://github.com/NVIDIA/MinkowskiEngine/blob/master/examples/classification_modelnet40.py \n",
        "\n",
        "Вам предлагается обучить простейшую модель `minkfcnn` (аргумент `--network minkfcnn`).\n",
        "\n",
        "В качестве отчета по заданию вам предлагается приложить результаты обучения (логи)."
      ]
    },
    {
      "cell_type": "code",
      "execution_count": null,
      "metadata": {
        "id": "sDeJSk3gM9Xh"
      },
      "outputs": [],
      "source": []
    }
  ],
  "metadata": {
    "accelerator": "GPU",
    "colab": {
      "provenance": []
    },
    "gpuClass": "standard",
    "kernelspec": {
      "display_name": "Python 3",
      "name": "python3"
    },
    "language_info": {
      "name": "python"
    }
  },
  "nbformat": 4,
  "nbformat_minor": 0
}
