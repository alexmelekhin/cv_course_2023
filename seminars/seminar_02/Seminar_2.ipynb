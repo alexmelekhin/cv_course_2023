{
  "cells": [
    {
      "attachments": {},
      "cell_type": "markdown",
      "metadata": {},
      "source": [
        "<center>\n",
        "    \n",
        "# [Компьютерное зрение](https://cogmodel.mipt.ru/wiki/index.php/%D0%9A%D0%BE%D0%BC%D0%BF%D1%8C%D1%8E%D1%82%D0%B5%D1%80%D0%BD%D0%BE%D0%B5_%D0%B7%D1%80%D0%B5%D0%BD%D0%B8%D0%B5)\n",
        "\n",
        "## <center> Семинар 2 - Цветовые пространства, гистограммы изображений, интегральные изображения\n",
        "\n",
        "<a target=\"_blank\" href=\"https://colab.research.google.com/github/alexmelekhin/cv_course_2023/blob/main/seminars/seminar_02/Seminar_2.ipynb\">\n",
        "  <img src=\"https://colab.research.google.com/assets/colab-badge.svg\" alt=\"Open In Colab\"/>\n",
        "</a>\n",
        "\n",
        "***"
      ]
    },
    {
      "attachments": {},
      "cell_type": "markdown",
      "metadata": {},
      "source": [
        "Источник используемого аэрофотоснимка: https://sovzond.ru/upload/medialibrary/267/%D0%98%D1%81%D1%85%D0%BE%D0%B4%D0%BD%D1%8B%D0%B9-%D0%B0%D1%8D%D1%80%D0%BE%D1%84%D0%BE%D1%82%D0%BE%D1%81%D0%BD%D0%B8%D0%BC%D0%BE%D0%BA.jpg"
      ]
    },
    {
      "cell_type": "code",
      "execution_count": null,
      "metadata": {
        "id": "8TnkRimAUebI"
      },
      "outputs": [],
      "source": [
        "from pathlib import Path\n",
        "\n",
        "import cv2\n",
        "import numpy as np\n",
        "\n",
        "import matplotlib.pyplot as plt"
      ]
    },
    {
      "cell_type": "code",
      "execution_count": null,
      "metadata": {
        "id": "L2lHXOKxZCnn"
      },
      "outputs": [],
      "source": [
        "IMG_PATH = \"data/aerial_image.jpg\"\n",
        "\n",
        "if not Path(IMG_PATH).exists():\n",
        "    !git clone https://github.com/alexmelekhin/cv_course_2023.git\n",
        "    !mv cv_course_2023/seminars/seminar_02/data ."
      ]
    },
    {
      "cell_type": "markdown",
      "metadata": {
        "id": "LdjRJGM3-xu8"
      },
      "source": [
        "# Цветовые пространства\n",
        "\n",
        "Наиболее распространенным представлением цвета пикселя является пространство RGB. В таком представлении цвет представлен тремя числами: интенсивностями красного, зеленого и синего базисных цветов."
      ]
    },
    {
      "cell_type": "code",
      "execution_count": null,
      "metadata": {
        "id": "KBmZWU_dc2HL"
      },
      "outputs": [],
      "source": [
        "img = cv2.imread(IMG_PATH)"
      ]
    },
    {
      "cell_type": "code",
      "execution_count": null,
      "metadata": {
        "id": "G2WK7oACdBji"
      },
      "outputs": [],
      "source": [
        "img_rgb = cv2.cvtColor(img, cv2.COLOR_BGR2RGB)"
      ]
    },
    {
      "cell_type": "code",
      "execution_count": null,
      "metadata": {
        "colab": {
          "base_uri": "https://localhost:8080/",
          "height": 487
        },
        "id": "MrIQ3IX8GP1h",
        "outputId": "cf86d35b-bef9-4bfb-aa03-243e6ad73fc1"
      },
      "outputs": [],
      "source": [
        "plt.figure(figsize=[10, 10])\n",
        "plt.imshow(img_rgb)"
      ]
    },
    {
      "cell_type": "markdown",
      "metadata": {
        "id": "pBxIB3dWrMPC"
      },
      "source": [
        "cvtColor поддерживает конвертацию между множеством других цветовых схем. К примеру, чтобы получить серое изобаржение из цветного достаточно:"
      ]
    },
    {
      "cell_type": "code",
      "execution_count": null,
      "metadata": {
        "id": "m5rH780praq5"
      },
      "outputs": [],
      "source": [
        "img_gray = cv2.cvtColor(img, cv2.COLOR_BGR2GRAY)"
      ]
    },
    {
      "cell_type": "code",
      "execution_count": null,
      "metadata": {
        "colab": {
          "base_uri": "https://localhost:8080/",
          "height": 487
        },
        "id": "vquTkkWjrmAS",
        "outputId": "19820822-5c0a-4167-8fa1-8c2ab6b18179"
      },
      "outputs": [],
      "source": [
        "plt.figure(figsize=[10, 10])\n",
        "plt.imshow(img_gray, cmap='Greys_r')"
      ]
    },
    {
      "cell_type": "markdown",
      "metadata": {
        "id": "ovLLB5rGrqHo"
      },
      "source": [
        "Если не предполагается использовать информацию о цвете пикселей, то можно сразу загрузить изображение в оттенках серого:"
      ]
    },
    {
      "cell_type": "code",
      "execution_count": null,
      "metadata": {
        "id": "ZFRGKu-Ai8en"
      },
      "outputs": [],
      "source": [
        "img_gray = cv2.imread(IMG_PATH, cv2.IMREAD_GRAYSCALE)"
      ]
    },
    {
      "cell_type": "code",
      "execution_count": null,
      "metadata": {
        "colab": {
          "base_uri": "https://localhost:8080/",
          "height": 487
        },
        "id": "iQtrF4OrjD3k",
        "outputId": "caf0a06f-2fa4-435c-c5f8-bf9f260fda06"
      },
      "outputs": [],
      "source": [
        "plt.figure(figsize=[10, 10])\n",
        "plt.imshow(img_gray, cmap='Greys_r')"
      ]
    },
    {
      "cell_type": "markdown",
      "metadata": {
        "id": "F3zjOzwJj1hT"
      },
      "source": [
        "серое изображение - двумерный массив:"
      ]
    },
    {
      "cell_type": "code",
      "execution_count": null,
      "metadata": {
        "colab": {
          "base_uri": "https://localhost:8080/"
        },
        "id": "-FTdP1hWigR8",
        "outputId": "6be31cb6-02e5-4cb8-ed6e-4807e2d7c609"
      },
      "outputs": [],
      "source": [
        "print('type(img_gray) = ', type(img_gray))\n",
        "print('img_gray.shape = ', img_gray.shape)\n",
        "print('img_gray.dtype = ', img_gray.dtype)"
      ]
    },
    {
      "attachments": {},
      "cell_type": "markdown",
      "metadata": {
        "id": "5TriJgjkkOay"
      },
      "source": [
        "## Упражнение 1: RGB $\\to$ gray\n",
        "\n",
        "Реализуйте функцию преобразования цветного изображения в формате RGB в серое"
      ]
    },
    {
      "cell_type": "code",
      "execution_count": null,
      "metadata": {
        "id": "6pzlljRUkW8F"
      },
      "outputs": [],
      "source": [
        "def convert_rgb_to_grayscale(img_rgb):\n",
        "    pass  # your code here"
      ]
    },
    {
      "cell_type": "code",
      "execution_count": null,
      "metadata": {
        "id": "7xaA2x69sftO"
      },
      "outputs": [],
      "source": [
        "assert((cv2.cvtColor(img_rgb, cv2.COLOR_RGB2GRAY) == convert_rgb_to_grayscale(img_rgb)).all())"
      ]
    },
    {
      "cell_type": "markdown",
      "metadata": {
        "id": "gV7CBVjuE6-H"
      },
      "source": [
        "## Вопрос 1\n",
        "Почему бы не использовать при преобразовании в серое просто среднее арифметическое?\n",
        "\n",
        "**Ответ:**"
      ]
    },
    {
      "cell_type": "markdown",
      "metadata": {
        "id": "cvcYe8qHCLw0"
      },
      "source": [
        "Кроме RGB/BGR и grayscale существуют и другие цветовые представления. Преобразования между ними можно осуществлять с помощью библиотеки OpenCV следующим способом:"
      ]
    },
    {
      "cell_type": "markdown",
      "metadata": {
        "id": "uEpdTEl7CTz5"
      },
      "source": [
        "### RGB $\\to$ HSV"
      ]
    },
    {
      "cell_type": "code",
      "execution_count": null,
      "metadata": {
        "id": "43hXycKICT0K"
      },
      "outputs": [],
      "source": [
        "img_hsv = cv2.cvtColor(img_rgb, cv2.COLOR_RGB2HSV)"
      ]
    },
    {
      "cell_type": "code",
      "execution_count": null,
      "metadata": {
        "colab": {
          "base_uri": "https://localhost:8080/",
          "height": 487
        },
        "id": "keA-giLECT0L",
        "outputId": "d6a43de7-f091-4a86-e04e-9dd88edf1f3a"
      },
      "outputs": [],
      "source": [
        "plt.figure(figsize=[10, 10])\n",
        "plt.imshow(img_hsv)"
      ]
    },
    {
      "cell_type": "markdown",
      "metadata": {
        "id": "L7-DwtFLCT0M"
      },
      "source": [
        "### RGB $\\to$ YUV"
      ]
    },
    {
      "cell_type": "code",
      "execution_count": null,
      "metadata": {
        "id": "7B4ij5cFCT0M"
      },
      "outputs": [],
      "source": [
        "img_yuv = cv2.cvtColor(img_rgb, cv2.COLOR_RGB2YUV)"
      ]
    },
    {
      "cell_type": "code",
      "execution_count": null,
      "metadata": {
        "colab": {
          "base_uri": "https://localhost:8080/",
          "height": 487
        },
        "id": "ptoRd8ASCT0M",
        "outputId": "2538c6f2-b15b-4344-f360-01c4a87ef8ce"
      },
      "outputs": [],
      "source": [
        "plt.figure(figsize=[10, 10])\n",
        "plt.imshow(img_yuv)"
      ]
    },
    {
      "cell_type": "markdown",
      "metadata": {
        "id": "2V65Y9buFTOf"
      },
      "source": [
        "## Упражнение 2\n",
        "Попробуйте другие цветовые пространства, конвертация в которые реализована в OpenCV."
      ]
    },
    {
      "cell_type": "code",
      "execution_count": null,
      "metadata": {},
      "outputs": [],
      "source": [
        "# your code here"
      ]
    },
    {
      "attachments": {},
      "cell_type": "markdown",
      "metadata": {
        "id": "NoiSMztxCT0N"
      },
      "source": [
        "## Упражнение 3: RGB $\\to$ HSV\n",
        "\n",
        "Реализуйте самостоятельно конвертацию из RGB в HSV и сравните её с реализацией в OpenCV.\n"
      ]
    },
    {
      "cell_type": "code",
      "execution_count": null,
      "metadata": {
        "id": "1yO38t26DaLc"
      },
      "outputs": [],
      "source": [
        "def rgb_to_hsv(img_rgb):\n",
        "    pass  # your code here"
      ]
    },
    {
      "cell_type": "code",
      "execution_count": null,
      "metadata": {
        "id": "eBDR3AM_DhtT"
      },
      "outputs": [],
      "source": [
        "assert((rgb_to_hsv(img_rgb) == cv2.cvtColor(img_rgb, cv2.COLOR_RGB2HSV)).all())"
      ]
    },
    {
      "attachments": {},
      "cell_type": "markdown",
      "metadata": {
        "id": "MnB94TPWFfJW"
      },
      "source": [
        "## Вопрос 2\n",
        "\n",
        "В каких задачах переход из RGB в другое цветовое пространство может быть полезным?\n",
        "\n",
        "**Ответ:**"
      ]
    },
    {
      "cell_type": "markdown",
      "metadata": {
        "id": "iKUQEXq7CjO-"
      },
      "source": [
        "# Гистограмма изображения\n",
        "\n",
        "Напомним, что гистограммой изображения называется функция, показыващая количество пикселей изображения с заданным в качестве аргумента значением интенсивности:\n",
        "\n",
        "$$\n",
        "    h(v) = \\sum_{x = 0}^{W - 1} \\sum_{y = 0}^{H - 1} [f(x, y) = v] \n",
        "$$\n",
        "\n",
        "Если дополнительно потребовать, чтобы $\\sum_{v = 0}^{255} h(v) = 1$, то $h$ будет представлять функцию плотности распределения интенсивности на изображении.\n",
        "\n",
        "Определим вспомогательную функцию, позволяющую визализировать гистограмму:"
      ]
    },
    {
      "cell_type": "code",
      "execution_count": null,
      "metadata": {
        "id": "KdlX-IypMZzI"
      },
      "outputs": [],
      "source": [
        "def visualize_hist(hist):\n",
        "    plt.figure(figsize=[20, 5])\n",
        "    plt.bar(np.arange(len(hist)), hist / hist.sum())"
      ]
    },
    {
      "cell_type": "markdown",
      "metadata": {
        "id": "mRGgxmeQZbVu"
      },
      "source": [
        "Рассчитать гистограмму можно с помощью встроенной функции OpenCV:"
      ]
    },
    {
      "cell_type": "code",
      "execution_count": null,
      "metadata": {
        "id": "eNe6V7hOIoBh"
      },
      "outputs": [],
      "source": [
        "hist_cv = cv2.calcHist([img_gray],      # список изображений\n",
        "                       [0],             # список каналов\n",
        "                       None,            # маска (без маски)\n",
        "                       [256],           # размер гистограммы\n",
        "                       [0, 256])[:, 0]  # диапазон значений"
      ]
    },
    {
      "cell_type": "markdown",
      "metadata": {
        "id": "FhST9JvuZk6_"
      },
      "source": [
        "Результат представляет собой обычный массив длины 256:"
      ]
    },
    {
      "cell_type": "code",
      "execution_count": null,
      "metadata": {
        "colab": {
          "base_uri": "https://localhost:8080/"
        },
        "id": "A5p3F96RM4XP",
        "outputId": "f712e2f2-4ba6-4a2b-8aad-50f81bafb1ac"
      },
      "outputs": [],
      "source": [
        "print('hist_cv.shape = ', hist_cv.shape)"
      ]
    },
    {
      "cell_type": "markdown",
      "metadata": {
        "id": "1pLti_sNZs9Y"
      },
      "source": [
        "и выглядит следующим образом:"
      ]
    },
    {
      "cell_type": "code",
      "execution_count": null,
      "metadata": {
        "colab": {
          "base_uri": "https://localhost:8080/",
          "height": 320
        },
        "id": "FI5sKJscNBRM",
        "outputId": "b6e86908-5778-4236-b4d1-d45ed2a22663"
      },
      "outputs": [],
      "source": [
        "visualize_hist(hist_cv)"
      ]
    },
    {
      "attachments": {},
      "cell_type": "markdown",
      "metadata": {
        "id": "sWp8_-uYMJcX"
      },
      "source": [
        "## Упражнение 4: Построение гистограммы\n",
        "\n",
        "Реализуйте функцию для расчета гистограммы изображения."
      ]
    },
    {
      "cell_type": "code",
      "execution_count": null,
      "metadata": {
        "id": "TmRVebaPLLdq"
      },
      "outputs": [],
      "source": [
        "def compute_hist(img):\n",
        "    pass  # your code here"
      ]
    },
    {
      "cell_type": "code",
      "execution_count": null,
      "metadata": {
        "id": "2dFLaW2yMXNw"
      },
      "outputs": [],
      "source": [
        "hist_my = compute_hist(img_gray)"
      ]
    },
    {
      "cell_type": "code",
      "execution_count": null,
      "metadata": {
        "colab": {
          "base_uri": "https://localhost:8080/",
          "height": 320
        },
        "id": "MhF0f_RPNuAy",
        "outputId": "8e65fb8d-73b7-4c45-e5cd-88bf2cb37dd3"
      },
      "outputs": [],
      "source": [
        "visualize_hist(hist_my)"
      ]
    },
    {
      "cell_type": "code",
      "execution_count": null,
      "metadata": {
        "id": "FEUbySUCNnuk"
      },
      "outputs": [],
      "source": [
        "assert((hist_my == hist_cv).all())"
      ]
    },
    {
      "attachments": {},
      "cell_type": "markdown",
      "metadata": {
        "id": "ST4vHNzUIQPS"
      },
      "source": [
        " ## Вопрос 3\n",
        "\n",
        " Что можно сказать об изображении по его гистограмме?\n",
        "\n",
        "**Ответ:**"
      ]
    },
    {
      "attachments": {},
      "cell_type": "markdown",
      "metadata": {
        "id": "DLuEIJCaIPhO"
      },
      "source": [
        "## Вопрос 4\n",
        "\n",
        "Допустим, вы смотрите некоторый фильм и для текущего кадра выводите его гистограмму. Как будет меняться эта гистограмма с течением времени?\n",
        "\n",
        "**Ответ:**"
      ]
    },
    {
      "attachments": {},
      "cell_type": "markdown",
      "metadata": {
        "id": "RJugKO1ZIOAf"
      },
      "source": [
        "## Упражнение 5: JPEG и гистограмма\n",
        "\n",
        "Исследуйте, как влияет степень сжатия алгоритма JPEG на вид гистограммы изображения."
      ]
    },
    {
      "cell_type": "code",
      "execution_count": null,
      "metadata": {},
      "outputs": [],
      "source": [
        "# your code here"
      ]
    },
    {
      "attachments": {},
      "cell_type": "markdown",
      "metadata": {
        "id": "w8Gasfh6GwbM"
      },
      "source": [
        "## Упражнение 6: Сегментация\n",
        "\n",
        "На загруженном аэроортофотоплане выделите зеленые насаждения. Для этого постройте бинарную маску, где 1 будет отвечать наличию насаждений в данном пикселе, 0 - их отсутствию, и визуализируйте её. А также рассчитайте, какую долю изображения занимают зеленые насаждения. С какой ошибкой (погрешностью) получена эта величина?\n",
        "\n",
        "Подсказка: вам должно помочь HSV пространство и гистограмма. Погрешность может быть оценена на глаз, по вашей неуверенности в определении порога отделения классов 'зеленые насаждения'/'прочее'."
      ]
    },
    {
      "cell_type": "code",
      "execution_count": null,
      "metadata": {
        "id": "StogN5vGJ5FD"
      },
      "outputs": [],
      "source": [
        "# your code here"
      ]
    },
    {
      "attachments": {},
      "cell_type": "markdown",
      "metadata": {
        "id": "aXut4_WgCis7"
      },
      "source": [
        "# Упражнение 7: Интегральное изображение\n",
        "Напомним, что интегральным изображением называется следующая функция:\n",
        "$$\n",
        "    I(x, y) = \\sum_{i = 0}^{x} \\sum_{j = 0}^{y} f(i, j)\n",
        "$$\n",
        "С помощью интегрального изображения можно за $O(1)$ вычислять сумму интенсивностей в произвольной прямоугольной области. Требуется реализовать расчет интегрального изображения, а также быстрый расчет сумм интенсивностей в прямоугольнике заданном верхним левым углом, шириной и высотой $x, y, w, h$."
      ]
    },
    {
      "cell_type": "code",
      "execution_count": null,
      "metadata": {
        "id": "3fYum1-_PgAf"
      },
      "outputs": [],
      "source": [
        "class IntegralImage:\n",
        "\n",
        "    def __init__(self, img):\n",
        "        assert(len(img.shape) == 2)  # только для серых изображений\n",
        "\n",
        "        self.img = img\n",
        "\n",
        "        # your code here\n",
        "\n",
        "    def sum(self, x, y, w, h):\n",
        "        # your code here\n"
      ]
    },
    {
      "cell_type": "code",
      "execution_count": null,
      "metadata": {
        "id": "F0P6I0QQP_OB"
      },
      "outputs": [],
      "source": [
        "I = IntegralImage(img_gray)"
      ]
    },
    {
      "cell_type": "code",
      "execution_count": null,
      "metadata": {
        "id": "wDEQlgO3QF6J"
      },
      "outputs": [],
      "source": [
        "x, y, w, h = 0, 0, 100, 100\n",
        "assert(img_gray[y:y + h, x:x + w].sum() == I.sum(x, y, w, h))\n",
        "\n",
        "x, y, w, h = 100, 100, 100, 100\n",
        "assert(img_gray[y:y + h, x:x + w].sum() == I.sum(x, y, w, h))"
      ]
    },
    {
      "attachments": {},
      "cell_type": "markdown",
      "metadata": {
        "id": "35naXT8TJShj"
      },
      "source": [
        "## Вопрос 5\n",
        "\n",
        "В каких задачах может потребоваться использовать интегральное изображение?\n",
        "\n",
        "**Ответ:**"
      ]
    },
    {
      "attachments": {},
      "cell_type": "markdown",
      "metadata": {
        "id": "ogh-henUJSRb"
      },
      "source": [
        "## Вопрос 6\n",
        "\n",
        "Какому методу решения задачи в программировании следует метод расчета интегрального изображения?\n",
        "\n",
        "**Ответ:**"
      ]
    }
  ],
  "metadata": {
    "colab": {
      "collapsed_sections": [],
      "name": "Seminar_2.ipynb",
      "provenance": []
    },
    "kernelspec": {
      "display_name": "Python 3",
      "language": "python",
      "name": "python3"
    },
    "language_info": {
      "codemirror_mode": {
        "name": "ipython",
        "version": 3
      },
      "file_extension": ".py",
      "mimetype": "text/x-python",
      "name": "python",
      "nbconvert_exporter": "python",
      "pygments_lexer": "ipython3",
      "version": "3.8.10"
    },
    "vscode": {
      "interpreter": {
        "hash": "e7370f93d1d0cde622a1f8e1c04877d8463912d04d973331ad4851f04de6915a"
      }
    }
  },
  "nbformat": 4,
  "nbformat_minor": 0
}
